{
  "cells": [
    {
      "cell_type": "code",
      "execution_count": null,
      "metadata": {
        "id": "AqIfbADY-iJR"
      },
      "outputs": [],
      "source": [
        "from IPython.display import clear_output\n",
        "from google.colab import drive"
      ]
    },
    {
      "cell_type": "code",
      "execution_count": null,
      "metadata": {
        "id": "3XMnpHCZ-_wp"
      },
      "outputs": [],
      "source": [
        "drive.mount('/content/drive')\n",
        "!pip install ultralytics\n",
        "clear_output(wait=False)"
      ]
    },
    {
      "cell_type": "code",
      "execution_count": null,
      "metadata": {
        "colab": {
          "base_uri": "https://localhost:8080/"
        },
        "id": "mx-StoIl7A-i",
        "outputId": "c159750e-d27a-4e4e-aa7b-44d42f4c3494"
      },
      "outputs": [],
      "source": [
        "from ultralytics import YOLO\n",
        "import os\n",
        "import shutil\n",
        "from dotenv import load_dotenv"
      ]
    },
    {
      "cell_type": "code",
      "execution_count": null,
      "metadata": {},
      "outputs": [],
      "source": [
        "source_dir = os.getenv(\"SOURCE_DIRECTORY\")\n",
        "save_dir = os.getenv(\"SAVE_DIRECTORY\")"
      ]
    },
    {
      "cell_type": "code",
      "execution_count": null,
      "metadata": {
        "id": "8o9HJaor-ZrY"
      },
      "outputs": [],
      "source": [
        "model = YOLO('yolo11m.pt')"
      ]
    },
    {
      "cell_type": "code",
      "execution_count": null,
      "metadata": {
        "id": "23bAepJi8nKy"
      },
      "outputs": [],
      "source": [
        "destination_dir = \"/content/\"\n",
        "shutil.copytree(source_dir, destination_dir, dirs_exist_ok=True)\n",
        "\n",
        "print(f\"Copied files from {source_dir} to {destination_dir}\")"
      ]
    },
    {
      "cell_type": "code",
      "execution_count": null,
      "metadata": {
        "colab": {
          "base_uri": "https://localhost:8080/"
        },
        "id": "f9kQq2kz4saJ",
        "outputId": "f1b642c1-f30a-4745-fa1c-5e4dd5497725"
      },
      "outputs": [],
      "source": [
        "results = model.train(\n",
        "    data= f\"{source_dir}/det_dataset_data.yaml\",\n",
        "    patience=15,\n",
        "    imgsz=512,\n",
        "    project=save_dir,\n",
        "    name=\"detection\",\n",
        "    degrees=30,\n",
        ")"
      ]
    },
    {
      "cell_type": "code",
      "execution_count": null,
      "metadata": {
        "colab": {
          "base_uri": "https://localhost:8080/"
        },
        "id": "jhbjZJog-_Lz",
        "outputId": "0b909308-5944-4ee7-cbdf-e40297c05879"
      },
      "outputs": [
        {
          "name": "stdout",
          "output_type": "stream",
          "text": [
            "Ultralytics 8.3.49 🚀 Python-3.10.12 torch-2.5.1+cu121 CUDA:0 (Tesla T4, 15102MiB)\n",
            "YOLO11m summary (fused): 303 layers, 20,030,803 parameters, 0 gradients, 67.6 GFLOPs\n"
          ]
        },
        {
          "name": "stderr",
          "output_type": "stream",
          "text": [
            "\u001b[34m\u001b[1mval: \u001b[0mScanning /content/det_dataset_after_split/labels/test.cache... 16 images, 0 backgrounds, 0 corrupt: 100%|██████████| 16/16 [00:00<?, ?it/s]\n",
            "                 Class     Images  Instances      Box(P          R      mAP50  mAP50-95): 100%|██████████| 1/1 [00:00<00:00,  1.76it/s]\n"
          ]
        },
        {
          "name": "stdout",
          "output_type": "stream",
          "text": [
            "                   all         16        172      0.893      0.924      0.973      0.749\n",
            "Speed: 0.2ms preprocess, 21.3ms inference, 0.0ms loss, 1.7ms postprocess per image\n",
            "Results saved to \u001b[1m/content/drive/MyDrive/CSE499/det32\u001b[0m\n"
          ]
        }
      ],
      "source": [
        "metircs = model.val(\n",
        "    split = \"test\",\n",
        ")"
      ]
    },
    {
      "cell_type": "code",
      "execution_count": null,
      "metadata": {
        "colab": {
          "base_uri": "https://localhost:8080/",
          "height": 264
        },
        "id": "jhIFOgMi_3D7",
        "outputId": "fd9de18d-1955-434b-e5c1-bb0a78e10e55"
      },
      "outputs": [
        {
          "name": "stdout",
          "output_type": "stream",
          "text": [
            "Ultralytics 8.3.49 🚀 Python-3.10.12 torch-2.5.1+cu121 CPU (Intel Xeon 2.20GHz)\n",
            "\n",
            "\u001b[34m\u001b[1mPyTorch:\u001b[0m starting from '/content/drive/MyDrive/CSE499/det3/weights/best.pt' with input shape (1, 3, 512, 512) BCHW and output shape(s) (1, 5, 5376) (38.6 MB)\n",
            "\n",
            "\u001b[34m\u001b[1mTorchScript:\u001b[0m starting export with torch 2.5.1+cu121...\n",
            "\u001b[34m\u001b[1mTorchScript:\u001b[0m export success ✅ 6.4s, saved as '/content/drive/MyDrive/CSE499/det3/weights/best.torchscript' (77.1 MB)\n",
            "\n",
            "Export complete (9.0s)\n",
            "Results saved to \u001b[1m/content/drive/MyDrive/CSE499/det3/weights\u001b[0m\n",
            "Predict:         yolo predict task=detect model=/content/drive/MyDrive/CSE499/det3/weights/best.torchscript imgsz=512  \n",
            "Validate:        yolo val task=detect model=/content/drive/MyDrive/CSE499/det3/weights/best.torchscript imgsz=512 data=/content/det_dataset_after_split/det_dataset_data.yaml  \n",
            "Visualize:       https://netron.app\n"
          ]
        },
        {
          "data": {
            "application/vnd.google.colaboratory.intrinsic+json": {
              "type": "string"
            },
            "text/plain": [
              "'/content/drive/MyDrive/CSE499/det3/weights/best.torchscript'"
            ]
          },
          "execution_count": 12,
          "metadata": {},
          "output_type": "execute_result"
        }
      ],
      "source": [
        "model.export(format=\"torchscript\")"
      ]
    }
  ],
  "metadata": {
    "accelerator": "GPU",
    "colab": {
      "gpuType": "T4",
      "provenance": []
    },
    "kernelspec": {
      "display_name": "Python 3",
      "name": "python3"
    },
    "language_info": {
      "name": "python"
    }
  },
  "nbformat": 4,
  "nbformat_minor": 0
}
